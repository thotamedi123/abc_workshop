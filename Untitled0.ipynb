{
  "nbformat": 4,
  "nbformat_minor": 0,
  "metadata": {
    "colab": {
      "provenance": [],
      "authorship_tag": "ABX9TyNgyq84mYcKxSqn4cLuVYUp",
      "include_colab_link": true
    },
    "kernelspec": {
      "name": "python3",
      "display_name": "Python 3"
    },
    "language_info": {
      "name": "python"
    }
  },
  "cells": [
    {
      "cell_type": "markdown",
      "metadata": {
        "id": "view-in-github",
        "colab_type": "text"
      },
      "source": [
        "<a href=\"https://colab.research.google.com/github/thotamedi123/abc_workshop/blob/main/Untitled0.ipynb\" target=\"_parent\"><img src=\"https://colab.research.google.com/assets/colab-badge.svg\" alt=\"Open In Colab\"/></a>"
      ]
    },
    {
      "cell_type": "code",
      "source": [
        "\n",
        "import random\n",
        "\n",
        "# Print multiline instruction\n",
        "print('Winning rules of the game ROCK PAPER SCISSORS are:\\n'\n",
        "      + \"Rock vs Paper -> Paper wins \\n\"\n",
        "      + \"Rock vs Scissors -> Rock wins \\n\"\n",
        "      + \"Paper vs Scissors -> Scissors wins \\n\")\n",
        "\n",
        "while True:\n",
        "\n",
        "    print(\"Enter your choice \\n 1 - Rock \\n 2 - Paper \\n 3 - Scissors \\n\")\n",
        "\n",
        "    # Take the input from user\n",
        "    choice = int(input(\"Enter your choice: \"))\n",
        "\n",
        "    # Looping until user enters valid input\n",
        "    while choice > 3 or choice < 1:\n",
        "        choice = int(input('Enter a valid choice please : '))\n",
        "\n",
        "    # Initialize value of choice_name variable corresponding to the choice value\n",
        "    if choice == 1:\n",
        "        choice_name = 'Rock'\n",
        "    elif choice == 2:\n",
        "        choice_name = 'Paper'\n",
        "    else:\n",
        "        choice_name = 'Scissors'\n",
        "\n",
        "    # Print user choice\n",
        "    print('User choice is:', choice_name)\n",
        "    print(\"Now it's Computer's Turn...\")\n",
        "\n",
        "    # Computer chooses randomly any number among 1, 2, and 3\n",
        "    comp_choice = random.randint(1, 3)\n",
        "\n",
        "    # Initialize value of comp_choice_name variable corresponding to the choice value\n",
        "    if comp_choice == 1:\n",
        "        comp_choice_name = 'Rock'\n",
        "    elif comp_choice == 2:\n",
        "        comp_choice_name = 'Paper'\n",
        "    else:\n",
        "        comp_choice_name = 'Scissors'\n",
        "\n",
        "    print(\"Computer choice is:\", comp_choice_name)\n",
        "    print(choice_name, 'vs', comp_choice_name)\n",
        "\n",
        "    # Determine the winner\n",
        "    if choice == comp_choice:\n",
        "        result = \"DRAW\"\n",
        "    elif (choice == 1 and comp_choice == 2) or (comp_choice == 1 and choice == 2):\n",
        "        result = 'Paper'\n",
        "    elif (choice == 1 and comp_choice == 3) or (comp_choice == 1 and choice == 3):\n",
        "        result = 'Rock'\n",
        "    elif (choice == 2 and comp_choice == 3) or (comp_choice == 2 and choice == 3):\n",
        "        result = 'Scissors'\n",
        "\n",
        "    # Print the result\n",
        "    if result == \"DRAW\":\n",
        "        print(\"<== It's a tie! ==>\")\n",
        "    elif result == choice_name:\n",
        "        print(\"<== User wins! ==>\")\n",
        "    else:\n",
        "        print(\"<== Computer wins! ==>\")\n",
        "\n",
        "    # Ask if the user wants to play again\n",
        "    print(\"Do you want to play again? (Y/N)\")\n",
        "    ans = input().lower()\n",
        "    if ans == 'n':\n",
        "        break\n",
        "\n",
        "# After coming out of the while loop, print thanks for playing\n",
        "print(\"Thanks for playing!\")\n",
        "\n",
        "\n"
      ],
      "metadata": {
        "colab": {
          "base_uri": "https://localhost:8080/",
          "height": 686
        },
        "id": "PBqPFFnQ57IM",
        "outputId": "6053109f-2bf9-4e84-dbec-89db9a3342cd"
      },
      "execution_count": null,
      "outputs": [
        {
          "output_type": "stream",
          "name": "stdout",
          "text": [
            "Winning rules of the game ROCK PAPER SCISSORS are:\n",
            "Rock vs Paper -> Paper wins \n",
            "Rock vs Scissors -> Rock wins \n",
            "Paper vs Scissors -> Scissors wins \n",
            "\n",
            "Enter your choice \n",
            " 1 - Rock \n",
            " 2 - Paper \n",
            " 3 - Scissors \n",
            "\n",
            "Enter your choice: 11\n",
            "Enter a valid choice please : 1\n",
            "User choice is: Rock\n",
            "Now it's Computer's Turn...\n",
            "Computer choice is: Scissors\n",
            "Rock vs Scissors\n",
            "<== User wins! ==>\n",
            "Do you want to play again? (Y/N)\n"
          ]
        },
        {
          "output_type": "error",
          "ename": "KeyboardInterrupt",
          "evalue": "Interrupted by user",
          "traceback": [
            "\u001b[0;31m---------------------------------------------------------------------------\u001b[0m",
            "\u001b[0;31mKeyboardInterrupt\u001b[0m                         Traceback (most recent call last)",
            "\u001b[0;32m<ipython-input-8-486fdabbeba2>\u001b[0m in \u001b[0;36m<cell line: 9>\u001b[0;34m()\u001b[0m\n\u001b[1;32m     64\u001b[0m     \u001b[0;31m# Ask if the user wants to play again\u001b[0m\u001b[0;34m\u001b[0m\u001b[0;34m\u001b[0m\u001b[0m\n\u001b[1;32m     65\u001b[0m     \u001b[0mprint\u001b[0m\u001b[0;34m(\u001b[0m\u001b[0;34m\"Do you want to play again? (Y/N)\"\u001b[0m\u001b[0;34m)\u001b[0m\u001b[0;34m\u001b[0m\u001b[0;34m\u001b[0m\u001b[0m\n\u001b[0;32m---> 66\u001b[0;31m     \u001b[0mans\u001b[0m \u001b[0;34m=\u001b[0m \u001b[0minput\u001b[0m\u001b[0;34m(\u001b[0m\u001b[0;34m)\u001b[0m\u001b[0;34m.\u001b[0m\u001b[0mlower\u001b[0m\u001b[0;34m(\u001b[0m\u001b[0;34m)\u001b[0m\u001b[0;34m\u001b[0m\u001b[0;34m\u001b[0m\u001b[0m\n\u001b[0m\u001b[1;32m     67\u001b[0m     \u001b[0;32mif\u001b[0m \u001b[0mans\u001b[0m \u001b[0;34m==\u001b[0m \u001b[0;34m'n'\u001b[0m\u001b[0;34m:\u001b[0m\u001b[0;34m\u001b[0m\u001b[0;34m\u001b[0m\u001b[0m\n\u001b[1;32m     68\u001b[0m         \u001b[0;32mbreak\u001b[0m\u001b[0;34m\u001b[0m\u001b[0;34m\u001b[0m\u001b[0m\n",
            "\u001b[0;32m/usr/local/lib/python3.10/dist-packages/ipykernel/kernelbase.py\u001b[0m in \u001b[0;36mraw_input\u001b[0;34m(self, prompt)\u001b[0m\n\u001b[1;32m    849\u001b[0m                 \u001b[0;34m\"raw_input was called, but this frontend does not support input requests.\"\u001b[0m\u001b[0;34m\u001b[0m\u001b[0;34m\u001b[0m\u001b[0m\n\u001b[1;32m    850\u001b[0m             )\n\u001b[0;32m--> 851\u001b[0;31m         return self._input_request(str(prompt),\n\u001b[0m\u001b[1;32m    852\u001b[0m             \u001b[0mself\u001b[0m\u001b[0;34m.\u001b[0m\u001b[0m_parent_ident\u001b[0m\u001b[0;34m,\u001b[0m\u001b[0;34m\u001b[0m\u001b[0;34m\u001b[0m\u001b[0m\n\u001b[1;32m    853\u001b[0m             \u001b[0mself\u001b[0m\u001b[0;34m.\u001b[0m\u001b[0m_parent_header\u001b[0m\u001b[0;34m,\u001b[0m\u001b[0;34m\u001b[0m\u001b[0;34m\u001b[0m\u001b[0m\n",
            "\u001b[0;32m/usr/local/lib/python3.10/dist-packages/ipykernel/kernelbase.py\u001b[0m in \u001b[0;36m_input_request\u001b[0;34m(self, prompt, ident, parent, password)\u001b[0m\n\u001b[1;32m    893\u001b[0m             \u001b[0;32mexcept\u001b[0m \u001b[0mKeyboardInterrupt\u001b[0m\u001b[0;34m:\u001b[0m\u001b[0;34m\u001b[0m\u001b[0;34m\u001b[0m\u001b[0m\n\u001b[1;32m    894\u001b[0m                 \u001b[0;31m# re-raise KeyboardInterrupt, to truncate traceback\u001b[0m\u001b[0;34m\u001b[0m\u001b[0;34m\u001b[0m\u001b[0m\n\u001b[0;32m--> 895\u001b[0;31m                 \u001b[0;32mraise\u001b[0m \u001b[0mKeyboardInterrupt\u001b[0m\u001b[0;34m(\u001b[0m\u001b[0;34m\"Interrupted by user\"\u001b[0m\u001b[0;34m)\u001b[0m \u001b[0;32mfrom\u001b[0m \u001b[0;32mNone\u001b[0m\u001b[0;34m\u001b[0m\u001b[0;34m\u001b[0m\u001b[0m\n\u001b[0m\u001b[1;32m    896\u001b[0m             \u001b[0;32mexcept\u001b[0m \u001b[0mException\u001b[0m \u001b[0;32mas\u001b[0m \u001b[0me\u001b[0m\u001b[0;34m:\u001b[0m\u001b[0;34m\u001b[0m\u001b[0;34m\u001b[0m\u001b[0m\n\u001b[1;32m    897\u001b[0m                 \u001b[0mself\u001b[0m\u001b[0;34m.\u001b[0m\u001b[0mlog\u001b[0m\u001b[0;34m.\u001b[0m\u001b[0mwarning\u001b[0m\u001b[0;34m(\u001b[0m\u001b[0;34m\"Invalid Message:\"\u001b[0m\u001b[0;34m,\u001b[0m \u001b[0mexc_info\u001b[0m\u001b[0;34m=\u001b[0m\u001b[0;32mTrue\u001b[0m\u001b[0;34m)\u001b[0m\u001b[0;34m\u001b[0m\u001b[0;34m\u001b[0m\u001b[0m\n",
            "\u001b[0;31mKeyboardInterrupt\u001b[0m: Interrupted by user"
          ]
        }
      ]
    }
  ]
}